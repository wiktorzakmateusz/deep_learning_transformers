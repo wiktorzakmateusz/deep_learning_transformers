{
 "cells": [
  {
   "cell_type": "code",
   "execution_count": 8,
   "id": "fc11c6b6",
   "metadata": {},
   "outputs": [],
   "source": [
    "from datasets import load_dataset\n",
    "import os\n",
    "from transformers import AutoFeatureExtractor\n",
    "import evaluate\n",
    "import pandas as pd\n",
    "from transformers import AutoFeatureExtractor\n",
    "from transformers import AutoModelForAudioClassification\n",
    "import torch\n",
    "import seaborn as sns\n",
    "import matplotlib.pyplot as plt\n",
    "pd.options.display.max_columns = 50\n",
    "pd.options.display.max_rows = 50\n",
    "from sklearn.metrics import classification_report"
   ]
  },
  {
   "cell_type": "markdown",
   "id": "577fb446",
   "metadata": {},
   "source": [
    "## LOADING DATASET"
   ]
  },
  {
   "cell_type": "code",
   "execution_count": 5,
   "id": "8670d5e9",
   "metadata": {},
   "outputs": [],
   "source": [
    "\n",
    "# Custom filter to ignore _background_noise_\n",
    "def filter_noise(example):\n",
    "    return \"_background_noise_\" not in example[\"file\"]\n",
    "\n",
    "# Load all .wav files with directory names as labels\n",
    "dataset = load_dataset(\n",
    "    \"audiofolder\",\n",
    "    data_dir=\"audio_data/train/audio\"\n",
    ")['train']\n",
    "\n",
    "# Filter out the background noise folder\n",
    "dataset = dataset.filter(lambda ex: \"_background_noise_\" not in ex[\"audio\"][\"path\"])\n",
    "\n",
    "labels = dataset.features[\"label\"].names # List of 32 label names (30 normal, silence, and filtered out _background_silence_)\n",
    "label2id, id2label = dict(), dict()\n",
    "\n",
    "for i, label in enumerate(labels):\n",
    "    label2id[label] = str(i)\n",
    "    id2label[str(i)] = label\n",
    "\n",
    "def add_label_str(example):\n",
    "    example[\"label_str\"] = id2label[str(example[\"label\"])]\n",
    "    return example\n",
    "\n",
    "dataset = dataset.map(add_label_str)\n",
    "\n",
    "categories_to_predict = {'yes', 'no', 'up', 'down', 'left', 'right', 'on', 'off', 'stop', 'go', 'silence'}\n",
    "\n",
    "known_label_ids = {i for i, name in enumerate(labels) if name in categories_to_predict}\n",
    "\n",
    "def map_labels_str(example):\n",
    "    label_str = example['label_str']\n",
    "    if label_str in categories_to_predict:\n",
    "        return {\"label_str\": label_str}\n",
    "    else:\n",
    "        return {\"label_str\": \"unknown\"}\n",
    "\n",
    "def map_labels(example):\n",
    "    label = example['label']\n",
    "    if label in known_label_ids:\n",
    "        return {\"label\": label}\n",
    "    else:\n",
    "        return {\"label\": -1} # unknown label\n",
    "\n",
    "dataset = dataset.map(map_labels_str)\n",
    "dataset = dataset.map(map_labels)\n",
    "\n",
    "def load_split_list(txt_path):\n",
    "    with open(txt_path, \"r\") as f:\n",
    "        return [line.strip() for line in f.readlines()]\n",
    "        \n",
    "test_list = load_split_list(\"audio_data/train/testing_list_with_silence_balanced.txt\")\n",
    "val_list = load_split_list(\"audio_data/train/validation_list_with_silence_balanced.txt\")\n",
    "\n",
    "def get_split(dataset, split_list):\n",
    "    \n",
    "    split_set = set(split_list)\n",
    "\n",
    "    def is_in_split(example):\n",
    "        return '/'.join(example['audio']['path'].split('/')[-2:]) in split_set\n",
    "\n",
    "    return dataset.filter(is_in_split)\n",
    "\n",
    "val_dataset = get_split(dataset, val_list)\n",
    "test_dataset = get_split(dataset, test_list)"
   ]
  },
  {
   "cell_type": "code",
   "execution_count": 7,
   "id": "1f302965",
   "metadata": {},
   "outputs": [
    {
     "name": "stdout",
     "output_type": "stream",
     "text": [
      "Accuracy of val set for model 1: 0.897\n",
      "Accuracy of val set for model 2: 0.891\n",
      "Accuracy of val set for model 3: 0.899\n",
      "Accuracy of val set for model 4: 0.901\n",
      "Accuracy of val set for model 5: 0.090\n"
     ]
    }
   ],
   "source": [
    "def show_accuracies(val_dataset):\n",
    "\n",
    "    accuracy = evaluate.load(\"accuracy\")\n",
    "    confusion_matrix = evaluate.load(\"confusion_matrix\")\n",
    "    references = val_dataset['label']\n",
    "\n",
    "    for model_no in range(1,6):\n",
    "        feature_extractor = AutoFeatureExtractor.from_pretrained(f\"wav2vec2_final_model_{model_no}\")\n",
    "        model = AutoModelForAudioClassification.from_pretrained(f\"wav2vec2_final_model_{model_no}\")\n",
    "\n",
    "        model.eval()\n",
    "\n",
    "        predictions = []\n",
    "        for sample in val_dataset:\n",
    "            audio_array = sample['audio']['array']\n",
    "            inputs = feature_extractor(audio_array, sampling_rate=16000, return_tensors=\"pt\")\n",
    "            with torch.no_grad():\n",
    "                logits = model(**inputs).logits\n",
    "            predicted_class_id = torch.argmax(logits).item()\n",
    "            predictions.append(predicted_class_id)\n",
    "\n",
    "        print('Accuracy of val set for model {}: {:.3f}'.format(model_no, accuracy.compute(references=references, predictions=predictions)['accuracy']))\n",
    "\n",
    "show_accuracies(val_dataset)\n",
    "\n"
   ]
  },
  {
   "cell_type": "code",
   "execution_count": 35,
   "id": "19a035f4",
   "metadata": {},
   "outputs": [],
   "source": [
    "label2id = {\n",
    "'unknown': '-1',\n",
    "'down': '5',\n",
    "'go': '9',\n",
    "'left': '12',\n",
    "'no': '15',\n",
    "'off': '16',\n",
    "'on': '17',\n",
    "'right': '19',\n",
    "'silence': '22',\n",
    "'stop': '24',\n",
    "'up': '28',\n",
    "'yes': '30'}\n",
    "\n",
    "id2label = {\n",
    "'-1': 'unknown',\n",
    "'5': 'down',\n",
    "'9': 'go',\n",
    "'12': 'left',\n",
    "'15': 'no',\n",
    "'16': 'off',\n",
    "'17': 'on',\n",
    "'19': 'right',\n",
    "'22': 'silence',\n",
    "'24': 'stop',\n",
    "'28': 'up',\n",
    "'30': 'yes'\n",
    "}"
   ]
  },
  {
   "cell_type": "code",
   "execution_count": 36,
   "id": "96715bae",
   "metadata": {},
   "outputs": [],
   "source": [
    "accuracy = evaluate.load(\"accuracy\")\n",
    "confusion_matrix = evaluate.load(\"confusion_matrix\")\n",
    "\n",
    "feature_extractor = AutoFeatureExtractor.from_pretrained(f\"wav2vec2_final_model_4\")\n",
    "model = AutoModelForAudioClassification.from_pretrained(f\"wav2vec2_final_model_4\")\n",
    "\n",
    "model.eval()\n",
    "\n",
    "predictions = []\n",
    "for sample in test_dataset:\n",
    "    audio_array = sample['audio']['array']\n",
    "    inputs = feature_extractor(audio_array, sampling_rate=16000, return_tensors=\"pt\")\n",
    "    with torch.no_grad():\n",
    "        logits = model(**inputs).logits\n",
    "    predicted_class_id = torch.argmax(logits).item()\n",
    "    predictions.append(predicted_class_id)\n",
    "\n",
    "references = test_dataset['label']\n"
   ]
  },
  {
   "cell_type": "code",
   "execution_count": 37,
   "id": "01a10b3a",
   "metadata": {},
   "outputs": [
    {
     "name": "stdout",
     "output_type": "stream",
     "text": [
      "Accuracy: 0.8994673768308922\n"
     ]
    }
   ],
   "source": [
    "labels = [id2label[str(class_)] for class_ in sorted(list(set(references) | set(predictions)))]\n",
    "\n",
    "print('Accuracy: {}'.format(accuracy.compute(references=references, predictions=predictions)['accuracy']))\n"
   ]
  },
  {
   "cell_type": "code",
   "execution_count": 44,
   "id": "a7d9bf88",
   "metadata": {},
   "outputs": [
    {
     "data": {
      "text/plain": [
       "{'audio': {'path': '/Users/mateuszw/files/transformers_project/audio_data/train/audio/bed/4845bb10_nohash_0.wav',\n",
       "  'array': array([ 0.00094604,  0.0020752 ,  0.00222778, ..., -0.00158691,\n",
       "         -0.00228882, -0.0027771 ], shape=(16000,)),\n",
       "  'sampling_rate': 16000},\n",
       " 'label': -1,\n",
       " 'label_str': 'unknown'}"
      ]
     },
     "execution_count": 44,
     "metadata": {},
     "output_type": "execute_result"
    }
   ],
   "source": [
    "test_dataset[0]"
   ]
  },
  {
   "cell_type": "code",
   "execution_count": 45,
   "id": "fcee746e",
   "metadata": {},
   "outputs": [
    {
     "data": {
      "text/plain": [
       "19"
      ]
     },
     "execution_count": 45,
     "metadata": {},
     "output_type": "execute_result"
    }
   ],
   "source": [
    "predictions[0]"
   ]
  },
  {
   "cell_type": "code",
   "execution_count": null,
   "id": "f74560a7",
   "metadata": {},
   "outputs": [
    {
     "name": "stdout",
     "output_type": "stream",
     "text": [
      "\n",
      "Classification Report:\n",
      "\n",
      "              precision    recall  f1-score   support\n",
      "\n",
      "     unknown       0.00      0.00      0.00       237\n",
      "        down       0.94      0.95      0.95       253\n",
      "          go       0.95      0.97      0.96       251\n",
      "        left       0.89      0.98      0.93       267\n",
      "          no       0.96      0.97      0.96       252\n",
      "         off       0.95      0.97      0.96       262\n",
      "          on       0.83      0.98      0.90       246\n",
      "       right       0.70      0.98      0.82       259\n",
      "     silence       1.00      1.00      1.00       200\n",
      "        stop       0.95      0.99      0.97       249\n",
      "          up       0.88      0.99      0.93       272\n",
      "         yes       0.95      0.97      0.96       256\n",
      "\n",
      "    accuracy                           0.90      3004\n",
      "   macro avg       0.83      0.90      0.86      3004\n",
      "weighted avg       0.84      0.90      0.86      3004\n",
      "\n"
     ]
    },
    {
     "name": "stderr",
     "output_type": "stream",
     "text": [
      "/Users/mateuszw/files/.venv/lib/python3.13/site-packages/sklearn/metrics/_classification.py:1565: UndefinedMetricWarning: Precision is ill-defined and being set to 0.0 in labels with no predicted samples. Use `zero_division` parameter to control this behavior.\n",
      "  _warn_prf(average, modifier, f\"{metric.capitalize()} is\", len(result))\n",
      "/Users/mateuszw/files/.venv/lib/python3.13/site-packages/sklearn/metrics/_classification.py:1565: UndefinedMetricWarning: Precision is ill-defined and being set to 0.0 in labels with no predicted samples. Use `zero_division` parameter to control this behavior.\n",
      "  _warn_prf(average, modifier, f\"{metric.capitalize()} is\", len(result))\n",
      "/Users/mateuszw/files/.venv/lib/python3.13/site-packages/sklearn/metrics/_classification.py:1565: UndefinedMetricWarning: Precision is ill-defined and being set to 0.0 in labels with no predicted samples. Use `zero_division` parameter to control this behavior.\n",
      "  _warn_prf(average, modifier, f\"{metric.capitalize()} is\", len(result))\n"
     ]
    },
    {
     "data": {
      "image/png": "[encoded data removed]",
      "text/plain": [
       "<Figure size 1000x800 with 2 Axes>"
      ]
     },
     "metadata": {},
     "output_type": "display_data"
    }
   ],
   "source": [
    "\n",
    "print(\"\\nClassification Report:\\n\")\n",
    "print(classification_report(references, predictions, target_names=labels))\n",
    "\n",
    "conf_matrix = confusion_matrix.compute(references=references, predictions=predictions)['confusion_matrix']\n",
    "df_cm = pd.DataFrame(conf_matrix, index=labels, columns=labels)\n",
    "\n",
    "plt.figure(figsize=(10, 8))\n",
    "sns.heatmap(df_cm, annot=True, fmt=\"d\", cmap=\"plasma\") \n",
    "plt.xlabel(\"Predicted\")\n",
    "plt.ylabel(\"Actual\")\n",
    "plt.title(\"Confusion Matrix Heatmap\")\n",
    "plt.show()\n",
    "\n"
   ]
  },
  {
   "cell_type": "code",
   "execution_count": null,
   "id": "e6b58b1f",
   "metadata": {},
   "outputs": [
    {
     "name": "stdout",
     "output_type": "stream",
     "text": [
      "   real_class predicted_class  value\n",
      "0       eight           three    3.0\n",
      "1          go           three    4.0\n",
      "2          no           three    5.0\n",
      "3          on             off    3.0\n",
      "4         one           three    4.0\n",
      "5       right           three    5.0\n",
      "6         six           three    3.0\n",
      "7       three            tree    8.0\n",
      "8        tree           three   16.0\n",
      "9          up             off    4.0\n",
      "10         up           three    5.0\n",
      "11        yes           three    5.0\n",
      "12       zero          sheila    4.0\n",
      "Total count: 13\n"
     ]
    }
   ],
   "source": [
    "import pandas as pd\n",
    "\n",
    "matches = df_cm[(df_cm > 2) & (df_cm < 100)]\n",
    "result = matches.stack().reset_index()\n",
    "result.columns = ['real_class', 'predicted_class', 'value']\n",
    "\n",
    "print(result)\n",
    "print(\"Total count:\", len(result))\n",
    "\n",
    "# Tree and Three pair is most problematic\n"
   ]
  }
 ],
 "metadata": {
  "kernelspec": {
   "display_name": ".venv",
   "language": "python",
   "name": "python3"
  },
  "language_info": {
   "codemirror_mode": {
    "name": "ipython",
    "version": 3
   },
   "file_extension": ".py",
   "mimetype": "text/x-python",
   "name": "python",
   "nbconvert_exporter": "python",
   "pygments_lexer": "ipython3",
   "version": "3.13.3"
  }
 },
 "nbformat": 4,
 "nbformat_minor": 5
}

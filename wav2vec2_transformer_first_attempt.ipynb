{
 "cells": [
  {
   "cell_type": "code",
   "execution_count": 1,
   "id": "fc11c6b6",
   "metadata": {},
   "outputs": [
    {
     "name": "stderr",
     "output_type": "stream",
     "text": [
      "/Users/mateuszw/files/.venv/lib/python3.13/site-packages/tqdm/auto.py:21: TqdmWarning: IProgress not found. Please update jupyter and ipywidgets. See https://ipywidgets.readthedocs.io/en/stable/user_install.html\n",
      "  from .autonotebook import tqdm as notebook_tqdm\n"
     ]
    }
   ],
   "source": [
    "from datasets import load_dataset\n",
    "import os\n",
    "\n",
    "# Custom filter to ignore _background_noise_\n",
    "def filter_noise(example):\n",
    "    return \"_background_noise_\" not in example[\"file\"]\n",
    "\n",
    "# Load all .wav files with directory names as labels\n",
    "dataset = load_dataset(\n",
    "    \n",
    "    \"audiofolder\",\n",
    "    data_dir=\"audio_data/train/audio\"\n",
    ")['train']\n",
    "\n",
    "# Filter out the background noise folder\n",
    "dataset = dataset.filter(lambda ex: \"_background_noise_\" not in ex[\"audio\"][\"path\"])"
   ]
  },
  {
   "cell_type": "code",
   "execution_count": 2,
   "id": "3bc4fb45",
   "metadata": {},
   "outputs": [
    {
     "name": "stdout",
     "output_type": "stream",
     "text": [
      "{'audio': {'path': '/Users/mateuszw/files/transformers_project/audio_data/train/audio/bed/00176480_nohash_0.wav', 'array': array([ 9.15527344e-05,  3.05175781e-05,  1.83105469e-04, ...,\n",
      "       -3.05175781e-05, -9.15527344e-05,  1.22070312e-04], shape=(16000,)), 'sampling_rate': 16000}, 'label': 1}\n"
     ]
    },
    {
     "data": {
      "text/plain": [
       "{'audio': {'path': '/Users/mateuszw/files/transformers_project/audio_data/train/audio/bed/00176480_nohash_0.wav',\n",
       "  'array': array([ 9.15527344e-05,  3.05175781e-05,  1.83105469e-04, ...,\n",
       "         -3.05175781e-05, -9.15527344e-05,  1.22070312e-04], shape=(16000,)),\n",
       "  'sampling_rate': 16000},\n",
       " 'label': 1,\n",
       " 'label_str': 'bed'}"
      ]
     },
     "execution_count": 2,
     "metadata": {},
     "output_type": "execute_result"
    }
   ],
   "source": [
    "print(dataset[0])\n",
    "labels = dataset.features[\"label\"].names\n",
    "label2id, id2label = dict(), dict()\n",
    "for i, label in enumerate(labels):\n",
    "    label2id[label] = str(i)\n",
    "    id2label[str(i)] = label\n",
    "\n",
    "def add_label_str(example):\n",
    "    example[\"label_str\"] = id2label[str(example[\"label\"])]\n",
    "    return example\n",
    "\n",
    "dataset = dataset.map(add_label_str)\n",
    "dataset[0]"
   ]
  },
  {
   "cell_type": "code",
   "execution_count": 3,
   "id": "6ac652fc",
   "metadata": {},
   "outputs": [
    {
     "name": "stderr",
     "output_type": "stream",
     "text": [
      "Filter: 100%|██████████| 64721/64721 [00:12<00:00, 5202.89 examples/s]\n",
      "Filter: 100%|██████████| 64721/64721 [00:07<00:00, 9145.64 examples/s]\n",
      "Filter: 100%|██████████| 64721/64721 [00:07<00:00, 8737.27 examples/s]\n"
     ]
    }
   ],
   "source": [
    "import os\n",
    "\n",
    "def load_split_list(txt_path):\n",
    "    with open(txt_path, \"r\") as f:\n",
    "        return [line.strip() for line in f.readlines()]\n",
    "        \n",
    "test_list = load_split_list(\"audio_data/train/testing_list.txt\")\n",
    "val_list = load_split_list(\"audio_data/train/validation_list.txt\")\n",
    "\n",
    "def get_split(dataset, split_list):\n",
    "    \n",
    "    split_set = set(split_list)\n",
    "\n",
    "    def is_in_split(example):\n",
    "        return '/'.join(example['audio']['path'].split('/')[-2:]) in split_set\n",
    "\n",
    "    return dataset.filter(is_in_split)\n",
    "\n",
    "val_dataset = get_split(dataset, val_list)\n",
    "test_dataset = get_split(dataset, test_list)\n",
    "\n",
    "# Train = everything else\n",
    "used_paths = set(val_list + test_list)\n",
    "train_dataset = dataset.filter(\n",
    "    lambda example: '/'.join(example['audio']['path'].split('/')[-2:]) not in used_paths\n",
    ")"
   ]
  },
  {
   "cell_type": "code",
   "execution_count": 4,
   "id": "bccef299",
   "metadata": {},
   "outputs": [
    {
     "name": "stdout",
     "output_type": "stream",
     "text": [
      "Dataset({\n",
      "    features: ['audio', 'label', 'label_str'],\n",
      "    num_rows: 51088\n",
      "})\n",
      "Dataset({\n",
      "    features: ['audio', 'label', 'label_str'],\n",
      "    num_rows: 6835\n",
      "})\n",
      "Dataset({\n",
      "    features: ['audio', 'label', 'label_str'],\n",
      "    num_rows: 6798\n",
      "})\n"
     ]
    }
   ],
   "source": [
    "print(train_dataset)\n",
    "print(test_dataset)\n",
    "print(val_dataset)"
   ]
  },
  {
   "cell_type": "code",
   "execution_count": 5,
   "id": "0d7218b9",
   "metadata": {},
   "outputs": [
    {
     "data": {
      "text/plain": [
       "{'audio': {'path': '/Users/mateuszw/files/transformers_project/audio_data/train/audio/bed/00176480_nohash_0.wav',\n",
       "  'array': array([ 9.15527344e-05,  3.05175781e-05,  1.83105469e-04, ...,\n",
       "         -3.05175781e-05, -9.15527344e-05,  1.22070312e-04], shape=(16000,)),\n",
       "  'sampling_rate': 16000},\n",
       " 'label': 1,\n",
       " 'label_str': 'bed'}"
      ]
     },
     "execution_count": 5,
     "metadata": {},
     "output_type": "execute_result"
    }
   ],
   "source": [
    "train_dataset[0]"
   ]
  },
  {
   "cell_type": "code",
   "execution_count": 12,
   "id": "8156aefd",
   "metadata": {},
   "outputs": [
    {
     "name": "stderr",
     "output_type": "stream",
     "text": [
      "/Users/mateuszw/files/.venv/lib/python3.13/site-packages/transformers/configuration_utils.py:311: UserWarning: Passing `gradient_checkpointing` to a config initialization is deprecated and will be removed in v5 Transformers. Using `model.gradient_checkpointing_enable()` instead, or if you are using the `Trainer` API, pass `gradient_checkpointing=True` in your `TrainingArguments`.\n",
      "  warnings.warn(\n"
     ]
    },
    {
     "data": {
      "text/plain": [
       "Dataset({\n",
       "    features: ['label', 'input_values'],\n",
       "    num_rows: 51088\n",
       "})"
      ]
     },
     "execution_count": 12,
     "metadata": {},
     "output_type": "execute_result"
    }
   ],
   "source": [
    "from transformers import AutoFeatureExtractor\n",
    "\n",
    "feature_extractor = AutoFeatureExtractor.from_pretrained(\"facebook/wav2vec2-base\")\n",
    "\n",
    "def preprocess_function(examples):\n",
    "    audio_arrays = [x[\"array\"] for x in examples[\"audio\"]]\n",
    "    inputs = feature_extractor(\n",
    "        audio_arrays, sampling_rate=feature_extractor.sampling_rate, max_length=16000, truncation=True\n",
    "    )\n",
    "    return inputs\n",
    "\n",
    "encoded_train_dataset = train_dataset.map(preprocess_function, remove_columns=['audio', 'label_str'], batched=True)\n",
    "encoded_val_dataset = val_dataset.map(preprocess_function, remove_columns=['audio', 'label_str'], batched=True)\n",
    "encoded_test_dataset = test_dataset.map(preprocess_function, remove_columns=['audio', 'label_str'], batched=True)\n",
    "encoded_train_dataset"
   ]
  },
  {
   "cell_type": "code",
   "execution_count": 13,
   "id": "87a7c692",
   "metadata": {},
   "outputs": [],
   "source": [
    "import evaluate\n",
    "\n",
    "accuracy = evaluate.load(\"accuracy\")\n",
    "\n",
    "# more on evaluating: https://huggingface.co/docs/evaluate/a_quick_tour\n",
    "\n",
    "import numpy as np\n",
    "\n",
    "def compute_metrics(eval_pred):\n",
    "    predictions = np.argmax(eval_pred.predictions, axis=1)\n",
    "    return accuracy.compute(predictions=predictions, references=eval_pred.label_ids)"
   ]
  },
  {
   "cell_type": "code",
   "execution_count": 14,
   "id": "be61fa5d",
   "metadata": {},
   "outputs": [
    {
     "name": "stderr",
     "output_type": "stream",
     "text": [
      "Some weights of Wav2Vec2ForSequenceClassification were not initialized from the model checkpoint at facebook/wav2vec2-base and are newly initialized: ['classifier.bias', 'classifier.weight', 'projector.bias', 'projector.weight']\n",
      "You should probably TRAIN this model on a down-stream task to be able to use it for predictions and inference.\n"
     ]
    }
   ],
   "source": [
    "from transformers import AutoModelForAudioClassification, TrainingArguments, Trainer\n",
    "\n",
    "num_labels = len(id2label)\n",
    "model = AutoModelForAudioClassification.from_pretrained(\n",
    "    \"facebook/wav2vec2-base\", num_labels=num_labels, label2id=label2id, id2label=id2label\n",
    ")"
   ]
  },
  {
   "cell_type": "code",
   "execution_count": 15,
   "id": "d41813ac",
   "metadata": {},
   "outputs": [
    {
     "data": {
      "text/html": [
       "\n",
       "    <div>\n",
       "      \n",
       "      <progress value='3990' max='3990' style='width:300px; height:20px; vertical-align: middle;'></progress>\n",
       "      [3990/3990 14:11:00, Epoch 9/10]\n",
       "    </div>\n",
       "    <table border=\"1\" class=\"dataframe\">\n",
       "  <thead>\n",
       " <tr style=\"text-align: left;\">\n",
       "      <th>Epoch</th>\n",
       "      <th>Training Loss</th>\n",
       "      <th>Validation Loss</th>\n",
       "      <th>Accuracy</th>\n",
       "    </tr>\n",
       "  </thead>\n",
       "  <tbody>\n",
       "    <tr>\n",
       "      <td>1</td>\n",
       "      <td>1.420600</td>\n",
       "      <td>1.301320</td>\n",
       "      <td>0.956899</td>\n",
       "    </tr>\n",
       "    <tr>\n",
       "      <td>2</td>\n",
       "      <td>0.542900</td>\n",
       "      <td>0.436563</td>\n",
       "      <td>0.959841</td>\n",
       "    </tr>\n",
       "    <tr>\n",
       "      <td>3</td>\n",
       "      <td>0.357700</td>\n",
       "      <td>0.237641</td>\n",
       "      <td>0.966314</td>\n",
       "    </tr>\n",
       "    <tr>\n",
       "      <td>4</td>\n",
       "      <td>0.247100</td>\n",
       "      <td>0.175650</td>\n",
       "      <td>0.968667</td>\n",
       "    </tr>\n",
       "    <tr>\n",
       "      <td>5</td>\n",
       "      <td>0.256700</td>\n",
       "      <td>0.154245</td>\n",
       "      <td>0.972051</td>\n",
       "    </tr>\n",
       "    <tr>\n",
       "      <td>6</td>\n",
       "      <td>0.194400</td>\n",
       "      <td>0.135382</td>\n",
       "      <td>0.971462</td>\n",
       "    </tr>\n",
       "    <tr>\n",
       "      <td>7</td>\n",
       "      <td>0.161000</td>\n",
       "      <td>0.123315</td>\n",
       "      <td>0.973816</td>\n",
       "    </tr>\n",
       "    <tr>\n",
       "      <td>8</td>\n",
       "      <td>0.171800</td>\n",
       "      <td>0.120812</td>\n",
       "      <td>0.973227</td>\n",
       "    </tr>\n",
       "    <tr>\n",
       "      <td>9</td>\n",
       "      <td>0.155700</td>\n",
       "      <td>0.116433</td>\n",
       "      <td>0.973816</td>\n",
       "    </tr>\n",
       "  </tbody>\n",
       "</table><p>"
      ],
      "text/plain": [
       "<IPython.core.display.HTML object>"
      ]
     },
     "metadata": {},
     "output_type": "display_data"
    },
    {
     "data": {
      "text/plain": [
       "TrainOutput(global_step=3990, training_loss=0.5617014444860301, metrics={'train_runtime': 51073.0545, 'train_samples_per_second': 10.003, 'train_steps_per_second': 0.078, 'total_flos': 4.627852693019136e+18, 'train_loss': 0.5617014444860301, 'epoch': 9.97683155917345})"
      ]
     },
     "execution_count": 15,
     "metadata": {},
     "output_type": "execute_result"
    }
   ],
   "source": [
    "training_args = TrainingArguments(\n",
    "    output_dir=\"wav2vec2\",\n",
    "    eval_strategy=\"epoch\",\n",
    "    save_strategy=\"epoch\",\n",
    "    learning_rate=3e-5,\n",
    "    per_device_train_batch_size=32,\n",
    "    gradient_accumulation_steps=4,\n",
    "    per_device_eval_batch_size=32,\n",
    "    num_train_epochs=10,\n",
    "    warmup_ratio=0.1,\n",
    "    logging_steps=10,\n",
    "    load_best_model_at_end=True,\n",
    "    metric_for_best_model=\"accuracy\",\n",
    ")\n",
    "\n",
    "trainer = Trainer(\n",
    "    model=model,\n",
    "    args=training_args,\n",
    "    train_dataset=encoded_train_dataset,\n",
    "    eval_dataset=encoded_val_dataset,\n",
    "    processing_class=feature_extractor,\n",
    "    compute_metrics=compute_metrics,\n",
    ")\n",
    "\n",
    "trainer.train()\n",
    "\n",
    "# More fine-tuning: https://colab.research.google.com/github/huggingface/notebooks/blob/main/examples/audio_classification.ipynb\n",
    "\n",
    "# 10h?"
   ]
  },
  {
   "cell_type": "code",
   "execution_count": 18,
   "id": "3cde8454",
   "metadata": {},
   "outputs": [],
   "source": [
    "trainer.save_model('wav2vec2_final_model')"
   ]
  },
  {
   "cell_type": "code",
   "execution_count": null,
   "id": "8d9563da",
   "metadata": {},
   "outputs": [
    {
     "data": {
      "text/plain": [
       "<transformers.trainer.Trainer at 0x30250d950>"
      ]
     },
     "execution_count": 16,
     "metadata": {},
     "output_type": "execute_result"
    }
   ],
   "source": [
    "trainer."
   ]
  }
 ],
 "metadata": {
  "kernelspec": {
   "display_name": ".venv",
   "language": "python",
   "name": "python3"
  },
  "language_info": {
   "codemirror_mode": {
    "name": "ipython",
    "version": 3
   },
   "file_extension": ".py",
   "mimetype": "text/x-python",
   "name": "python",
   "nbconvert_exporter": "python",
   "pygments_lexer": "ipython3",
   "version": "3.13.3"
  }
 },
 "nbformat": 4,
 "nbformat_minor": 5
}

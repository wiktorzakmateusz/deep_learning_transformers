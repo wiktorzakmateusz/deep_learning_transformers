{
 "cells": [
  {
   "cell_type": "code",
   "execution_count": 40,
   "id": "fc11c6b6",
   "metadata": {},
   "outputs": [],
   "source": [
    "from datasets import load_dataset\n",
    "import os\n",
    "\n",
    "# Custom filter to ignore _background_noise_\n",
    "def filter_noise(example):\n",
    "    return \"_background_noise_\" not in example[\"file\"]\n",
    "\n",
    "# Load all .wav files with directory names as labels\n",
    "dataset = load_dataset(\n",
    "    \"audiofolder\",\n",
    "    data_dir=\"audio_data/train/audio\"\n",
    ")['train']\n",
    "\n",
    "# Filter out the background noise folder\n",
    "dataset = dataset.filter(lambda ex: \"_background_noise_\" not in ex[\"audio\"][\"path\"])"
   ]
  },
  {
   "cell_type": "code",
   "execution_count": 41,
   "id": "3bc4fb45",
   "metadata": {},
   "outputs": [
    {
     "data": {
      "text/plain": [
       "{'audio': {'path': '/Users/mateuszw/files/transformers_project/audio_data/train/audio/bed/00176480_nohash_0.wav',\n",
       "  'array': array([ 9.15527344e-05,  3.05175781e-05,  1.83105469e-04, ...,\n",
       "         -3.05175781e-05, -9.15527344e-05,  1.22070312e-04], shape=(16000,)),\n",
       "  'sampling_rate': 16000},\n",
       " 'label': 1,\n",
       " 'label_str': 'bed'}"
      ]
     },
     "execution_count": 41,
     "metadata": {},
     "output_type": "execute_result"
    }
   ],
   "source": [
    "labels = dataset.features[\"label\"].names\n",
    "label2id, id2label = dict(), dict()\n",
    "\n",
    "for i, label in enumerate(labels):\n",
    "    label2id[label] = str(i)\n",
    "    id2label[str(i)] = label\n",
    "\n",
    "def add_label_str(example):\n",
    "    example[\"label_str\"] = id2label[str(example[\"label\"])]\n",
    "    return example\n",
    "\n",
    "dataset = dataset.map(add_label_str)\n",
    "dataset[0]"
   ]
  },
  {
   "cell_type": "code",
   "execution_count": 42,
   "id": "2c26c161",
   "metadata": {},
   "outputs": [],
   "source": [
    "labels = dataset.features[\"label\"].names  # List of 32 label names (30 normal, silence, and filtered out _background_silence_)\n",
    "\n",
    "categories_to_predict = {'yes', 'no', 'up', 'down', 'left', 'right', 'on', 'off', 'stop', 'go', 'silence'}\n",
    "\n",
    "known_label_ids = {i for i, name in enumerate(labels) if name in categories_to_predict}\n",
    "\n",
    "def map_labels_str(example):\n",
    "    label_str = example['label_str']\n",
    "    if label_str in categories_to_predict:\n",
    "        return {\"label_str\": label_str}\n",
    "    else:\n",
    "        return {\"label_str\": \"unknown\"}\n",
    "\n",
    "def map_labels(example):\n",
    "    label = example['label']\n",
    "    if label in known_label_ids:\n",
    "        return {\"label\": label}\n",
    "    else:\n",
    "        return {\"label\": -1} # unknown label\n",
    "\n",
    "dataset = dataset.map(map_labels_str)\n",
    "dataset = dataset.map(map_labels)"
   ]
  },
  {
   "cell_type": "code",
   "execution_count": 43,
   "id": "874e6f33",
   "metadata": {},
   "outputs": [
    {
     "name": "stdout",
     "output_type": "stream",
     "text": [
      "unknown: 41039\n",
      "down: 2359\n",
      "go: 2372\n",
      "left: 2353\n",
      "no: 2375\n",
      "off: 2357\n",
      "on: 2367\n",
      "right: 2367\n",
      "silence: 2400\n",
      "stop: 2380\n",
      "up: 2375\n",
      "yes: 2377\n"
     ]
    }
   ],
   "source": [
    "from collections import Counter\n",
    "labels_list = dataset['label_str']\n",
    "label_counts = Counter(labels_list)\n",
    "\n",
    "# Print nicely\n",
    "for label, count in label_counts.items():\n",
    "    print(f\"{label}: {count}\")"
   ]
  },
  {
   "cell_type": "code",
   "execution_count": 44,
   "id": "6ac652fc",
   "metadata": {},
   "outputs": [
    {
     "name": "stderr",
     "output_type": "stream",
     "text": [
      "Filter: 100%|██████████| 67121/67121 [00:17<00:00, 3782.53 examples/s]\n",
      "Filter: 100%|██████████| 67121/67121 [00:18<00:00, 3562.86 examples/s]\n",
      "Filter: 100%|██████████| 67121/67121 [00:17<00:00, 3769.89 examples/s]\n"
     ]
    }
   ],
   "source": [
    "def load_split_list(txt_path):\n",
    "    with open(txt_path, \"r\") as f:\n",
    "        return [line.strip() for line in f.readlines()]\n",
    "        \n",
    "test_list = load_split_list(\"audio_data/train/testing_list_with_silence_balanced.txt\")\n",
    "val_list = load_split_list(\"audio_data/train/validation_list_with_silence_balanced.txt\")\n",
    "train_list = load_split_list(\"audio_data/train/training_list_with_silence_balanced.txt\")\n",
    "\n",
    "def get_split(dataset, split_list):\n",
    "    \n",
    "    split_set = set(split_list)\n",
    "\n",
    "    def is_in_split(example):\n",
    "        return '/'.join(example['audio']['path'].split('/')[-2:]) in split_set\n",
    "\n",
    "    return dataset.filter(is_in_split)\n",
    "\n",
    "val_dataset = get_split(dataset, val_list)\n",
    "test_dataset = get_split(dataset, test_list)\n",
    "train_dataset = get_split(dataset, train_list)"
   ]
  },
  {
   "cell_type": "code",
   "execution_count": 50,
   "id": "0d7218b9",
   "metadata": {},
   "outputs": [
    {
     "data": {
      "text/plain": [
       "{'audio': {'path': '/Users/mateuszw/files/transformers_project/audio_data/train/audio/bed/12529547_nohash_0.wav',\n",
       "  'array': array([0.00244141, 0.00363159, 0.00079346, ..., 0.00112915, 0.00045776,\n",
       "         0.00125122], shape=(16000,)),\n",
       "  'sampling_rate': 16000},\n",
       " 'label': -1,\n",
       " 'label_str': 'unknown'}"
      ]
     },
     "execution_count": 50,
     "metadata": {},
     "output_type": "execute_result"
    }
   ],
   "source": [
    "train_dataset[0]"
   ]
  },
  {
   "cell_type": "code",
   "execution_count": 51,
   "id": "8156aefd",
   "metadata": {},
   "outputs": [
    {
     "name": "stderr",
     "output_type": "stream",
     "text": [
      "/Users/mateuszw/files/.venv/lib/python3.13/site-packages/transformers/configuration_utils.py:311: UserWarning: Passing `gradient_checkpointing` to a config initialization is deprecated and will be removed in v5 Transformers. Using `model.gradient_checkpointing_enable()` instead, or if you are using the `Trainer` API, pass `gradient_checkpointing=True` in your `TrainingArguments`.\n",
      "  warnings.warn(\n",
      "Map: 100%|██████████| 22346/22346 [00:11<00:00, 2029.85 examples/s]\n",
      "Map: 100%|██████████| 3011/3011 [00:01<00:00, 1523.04 examples/s]\n",
      "Map: 100%|██████████| 3004/3004 [00:02<00:00, 1460.49 examples/s]\n"
     ]
    },
    {
     "data": {
      "text/plain": [
       "Dataset({\n",
       "    features: ['label', 'input_values'],\n",
       "    num_rows: 22346\n",
       "})"
      ]
     },
     "execution_count": 51,
     "metadata": {},
     "output_type": "execute_result"
    }
   ],
   "source": [
    "from transformers import AutoFeatureExtractor\n",
    "\n",
    "feature_extractor = AutoFeatureExtractor.from_pretrained(\"facebook/wav2vec2-base\")\n",
    "\n",
    "def preprocess_function(examples):\n",
    "    audio_arrays = [x[\"array\"] for x in examples[\"audio\"]]\n",
    "    inputs = feature_extractor(\n",
    "        audio_arrays, sampling_rate=feature_extractor.sampling_rate, max_length=16000, truncation=True\n",
    "    )\n",
    "    return inputs\n",
    "\n",
    "encoded_train_dataset = train_dataset.map(preprocess_function, remove_columns=['audio', 'label_str'], batched=True)\n",
    "encoded_val_dataset = val_dataset.map(preprocess_function, remove_columns=['audio', 'label_str'], batched=True)\n",
    "encoded_test_dataset = test_dataset.map(preprocess_function, remove_columns=['audio', 'label_str'], batched=True)\n",
    "encoded_train_dataset"
   ]
  },
  {
   "cell_type": "code",
   "execution_count": 52,
   "id": "87a7c692",
   "metadata": {},
   "outputs": [],
   "source": [
    "import evaluate\n",
    "\n",
    "accuracy = evaluate.load(\"accuracy\")\n",
    "\n",
    "# more on evaluating: https://huggingface.co/docs/evaluate/a_quick_tour\n",
    "\n",
    "import numpy as np\n",
    "\n",
    "def compute_metrics(eval_pred):\n",
    "    predictions = np.argmax(eval_pred.predictions, axis=1)\n",
    "    return accuracy.compute(predictions=predictions, references=eval_pred.label_ids)"
   ]
  },
  {
   "cell_type": "code",
   "execution_count": 53,
   "id": "be61fa5d",
   "metadata": {},
   "outputs": [
    {
     "name": "stderr",
     "output_type": "stream",
     "text": [
      "Some weights of Wav2Vec2ForSequenceClassification were not initialized from the model checkpoint at facebook/wav2vec2-base and are newly initialized: ['classifier.bias', 'classifier.weight', 'projector.bias', 'projector.weight']\n",
      "You should probably TRAIN this model on a down-stream task to be able to use it for predictions and inference.\n"
     ]
    }
   ],
   "source": [
    "from transformers import AutoModelForAudioClassification, TrainingArguments, Trainer\n",
    "\n",
    "num_labels = len(id2label)\n",
    "model = AutoModelForAudioClassification.from_pretrained(\n",
    "    \"facebook/wav2vec2-base\", num_labels=num_labels, label2id=label2id, id2label=id2label\n",
    ")"
   ]
  },
  {
   "cell_type": "code",
   "execution_count": 54,
   "id": "d41813ac",
   "metadata": {},
   "outputs": [
    {
     "data": {
      "text/html": [
       "\n",
       "    <div>\n",
       "      \n",
       "      <progress value='870' max='870' style='width:300px; height:20px; vertical-align: middle;'></progress>\n",
       "      [870/870 2:01:57, Epoch 4/5]\n",
       "    </div>\n",
       "    <table border=\"1\" class=\"dataframe\">\n",
       "  <thead>\n",
       " <tr style=\"text-align: left;\">\n",
       "      <th>Epoch</th>\n",
       "      <th>Training Loss</th>\n",
       "      <th>Validation Loss</th>\n",
       "      <th>Accuracy</th>\n",
       "    </tr>\n",
       "  </thead>\n",
       "  <tbody>\n",
       "    <tr>\n",
       "      <td>0</td>\n",
       "      <td>1.518400</td>\n",
       "      <td>1.333074</td>\n",
       "      <td>0.880771</td>\n",
       "    </tr>\n",
       "    <tr>\n",
       "      <td>1</td>\n",
       "      <td>0.763700</td>\n",
       "      <td>0.619100</td>\n",
       "      <td>0.892395</td>\n",
       "    </tr>\n",
       "    <tr>\n",
       "      <td>2</td>\n",
       "      <td>0.483000</td>\n",
       "      <td>0.393047</td>\n",
       "      <td>0.893723</td>\n",
       "    </tr>\n",
       "    <tr>\n",
       "      <td>3</td>\n",
       "      <td>0.389500</td>\n",
       "      <td>0.298636</td>\n",
       "      <td>0.894055</td>\n",
       "    </tr>\n",
       "    <tr>\n",
       "      <td>4</td>\n",
       "      <td>0.297600</td>\n",
       "      <td>0.267599</td>\n",
       "      <td>0.896712</td>\n",
       "    </tr>\n",
       "  </tbody>\n",
       "</table><p>"
      ],
      "text/plain": [
       "<IPython.core.display.HTML object>"
      ]
     },
     "metadata": {},
     "output_type": "display_data"
    },
    {
     "data": {
      "text/plain": [
       "TrainOutput(global_step=870, training_loss=0.9493377063466215, metrics={'train_runtime': 7325.9812, 'train_samples_per_second': 15.251, 'train_steps_per_second': 0.119, 'total_flos': 1.0134032744448e+18, 'train_loss': 0.9493377063466215, 'epoch': 4.9957081545064375})"
      ]
     },
     "execution_count": 54,
     "metadata": {},
     "output_type": "execute_result"
    }
   ],
   "source": [
    "training_args = TrainingArguments(\n",
    "    output_dir=\"wav2vec2\",\n",
    "    eval_strategy=\"epoch\",\n",
    "    save_strategy=\"epoch\",\n",
    "    learning_rate=3e-5,\n",
    "    per_device_train_batch_size=32,\n",
    "    gradient_accumulation_steps=4,\n",
    "    per_device_eval_batch_size=32,\n",
    "    num_train_epochs=5,\n",
    "    warmup_ratio=0.1,\n",
    "    logging_steps=10,\n",
    "    load_best_model_at_end=True,\n",
    "    metric_for_best_model=\"accuracy\",\n",
    ")\n",
    "\n",
    "trainer = Trainer(\n",
    "    model=model,\n",
    "    args=training_args,\n",
    "    train_dataset=encoded_train_dataset,\n",
    "    eval_dataset=encoded_val_dataset,\n",
    "    processing_class=feature_extractor,\n",
    "    compute_metrics=compute_metrics,\n",
    ")\n",
    "\n",
    "trainer.train()\n",
    "\n",
    "# More fine-tuning: https://colab.research.google.com/github/huggingface/notebooks/blob/main/examples/audio_classification.ipynb\n",
    "\n",
    "# 10h?"
   ]
  },
  {
   "cell_type": "code",
   "execution_count": 55,
   "id": "3cde8454",
   "metadata": {},
   "outputs": [],
   "source": [
    "trainer.save_model('wav2vec2_final_model')"
   ]
  },
  {
   "cell_type": "code",
   "execution_count": 56,
   "id": "65ee816d",
   "metadata": {},
   "outputs": [
    {
     "name": "stderr",
     "output_type": "stream",
     "text": [
      "/Users/mateuszw/files/.venv/lib/python3.13/site-packages/transformers/configuration_utils.py:311: UserWarning: Passing `gradient_checkpointing` to a config initialization is deprecated and will be removed in v5 Transformers. Using `model.gradient_checkpointing_enable()` instead, or if you are using the `Trainer` API, pass `gradient_checkpointing=True` in your `TrainingArguments`.\n",
      "  warnings.warn(\n",
      "Some weights of Wav2Vec2ForSequenceClassification were not initialized from the model checkpoint at facebook/wav2vec2-base and are newly initialized: ['classifier.bias', 'classifier.weight', 'projector.bias', 'projector.weight']\n",
      "You should probably TRAIN this model on a down-stream task to be able to use it for predictions and inference.\n"
     ]
    },
    {
     "data": {
      "text/html": [
       "\n",
       "    <div>\n",
       "      \n",
       "      <progress value='870' max='870' style='width:300px; height:20px; vertical-align: middle;'></progress>\n",
       "      [870/870 2:02:36, Epoch 4/5]\n",
       "    </div>\n",
       "    <table border=\"1\" class=\"dataframe\">\n",
       "  <thead>\n",
       " <tr style=\"text-align: left;\">\n",
       "      <th>Epoch</th>\n",
       "      <th>Training Loss</th>\n",
       "      <th>Validation Loss</th>\n",
       "      <th>Accuracy</th>\n",
       "    </tr>\n",
       "  </thead>\n",
       "  <tbody>\n",
       "    <tr>\n",
       "      <td>0</td>\n",
       "      <td>2.280600</td>\n",
       "      <td>2.149126</td>\n",
       "      <td>0.792096</td>\n",
       "    </tr>\n",
       "    <tr>\n",
       "      <td>1</td>\n",
       "      <td>1.633200</td>\n",
       "      <td>1.487366</td>\n",
       "      <td>0.881767</td>\n",
       "    </tr>\n",
       "    <tr>\n",
       "      <td>2</td>\n",
       "      <td>1.351300</td>\n",
       "      <td>1.215643</td>\n",
       "      <td>0.890734</td>\n",
       "    </tr>\n",
       "    <tr>\n",
       "      <td>3</td>\n",
       "      <td>1.212900</td>\n",
       "      <td>1.086569</td>\n",
       "      <td>0.890070</td>\n",
       "    </tr>\n",
       "    <tr>\n",
       "      <td>4</td>\n",
       "      <td>1.127100</td>\n",
       "      <td>1.042052</td>\n",
       "      <td>0.890734</td>\n",
       "    </tr>\n",
       "  </tbody>\n",
       "</table><p>"
      ],
      "text/plain": [
       "<IPython.core.display.HTML object>"
      ]
     },
     "metadata": {},
     "output_type": "display_data"
    }
   ],
   "source": [
    "model = AutoModelForAudioClassification.from_pretrained(\n",
    "    \"facebook/wav2vec2-base\", num_labels=num_labels, label2id=label2id, id2label=id2label\n",
    ")\n",
    "\n",
    "i = 2\n",
    "training_args = TrainingArguments(\n",
    "    output_dir=f\"wav2vec2_{i}\",\n",
    "    eval_strategy=\"epoch\",\n",
    "    save_strategy=\"epoch\",\n",
    "    learning_rate=1e-5,\n",
    "    per_device_train_batch_size=32,\n",
    "    gradient_accumulation_steps=4,\n",
    "    per_device_eval_batch_size=32,\n",
    "    num_train_epochs=5,\n",
    "    warmup_ratio=0.1,\n",
    "    logging_steps=10,\n",
    "    load_best_model_at_end=True,\n",
    "    metric_for_best_model=\"accuracy\",\n",
    ")\n",
    "\n",
    "trainer = Trainer(\n",
    "    model=model,\n",
    "    args=training_args,\n",
    "    train_dataset=encoded_train_dataset,\n",
    "    eval_dataset=encoded_val_dataset,\n",
    "    processing_class=feature_extractor,\n",
    "    compute_metrics=compute_metrics,\n",
    ")\n",
    "\n",
    "trainer.train()\n",
    "\n",
    "trainer.save_model(f'wav2vec2_final_model_{i}')"
   ]
  },
  {
   "cell_type": "code",
   "execution_count": 57,
   "id": "1ae2e90f",
   "metadata": {},
   "outputs": [
    {
     "name": "stderr",
     "output_type": "stream",
     "text": [
      "/Users/mateuszw/files/.venv/lib/python3.13/site-packages/transformers/configuration_utils.py:311: UserWarning: Passing `gradient_checkpointing` to a config initialization is deprecated and will be removed in v5 Transformers. Using `model.gradient_checkpointing_enable()` instead, or if you are using the `Trainer` API, pass `gradient_checkpointing=True` in your `TrainingArguments`.\n",
      "  warnings.warn(\n",
      "Some weights of Wav2Vec2ForSequenceClassification were not initialized from the model checkpoint at facebook/wav2vec2-base and are newly initialized: ['classifier.bias', 'classifier.weight', 'projector.bias', 'projector.weight']\n",
      "You should probably TRAIN this model on a down-stream task to be able to use it for predictions and inference.\n"
     ]
    },
    {
     "data": {
      "text/html": [
       "\n",
       "    <div>\n",
       "      \n",
       "      <progress value='870' max='870' style='width:300px; height:20px; vertical-align: middle;'></progress>\n",
       "      [870/870 2:07:34, Epoch 4/5]\n",
       "    </div>\n",
       "    <table border=\"1\" class=\"dataframe\">\n",
       "  <thead>\n",
       " <tr style=\"text-align: left;\">\n",
       "      <th>Epoch</th>\n",
       "      <th>Training Loss</th>\n",
       "      <th>Validation Loss</th>\n",
       "      <th>Accuracy</th>\n",
       "    </tr>\n",
       "  </thead>\n",
       "  <tbody>\n",
       "    <tr>\n",
       "      <td>0</td>\n",
       "      <td>1.068500</td>\n",
       "      <td>0.838428</td>\n",
       "      <td>0.891066</td>\n",
       "    </tr>\n",
       "    <tr>\n",
       "      <td>1</td>\n",
       "      <td>0.433800</td>\n",
       "      <td>0.310661</td>\n",
       "      <td>0.893059</td>\n",
       "    </tr>\n",
       "    <tr>\n",
       "      <td>2</td>\n",
       "      <td>0.255800</td>\n",
       "      <td>0.189701</td>\n",
       "      <td>0.896048</td>\n",
       "    </tr>\n",
       "    <tr>\n",
       "      <td>3</td>\n",
       "      <td>0.223500</td>\n",
       "      <td>0.149570</td>\n",
       "      <td>0.899701</td>\n",
       "    </tr>\n",
       "    <tr>\n",
       "      <td>4</td>\n",
       "      <td>0.165400</td>\n",
       "      <td>0.144163</td>\n",
       "      <td>0.899701</td>\n",
       "    </tr>\n",
       "  </tbody>\n",
       "</table><p>"
      ],
      "text/plain": [
       "<IPython.core.display.HTML object>"
      ]
     },
     "metadata": {},
     "output_type": "display_data"
    }
   ],
   "source": [
    "model = AutoModelForAudioClassification.from_pretrained(\n",
    "    \"facebook/wav2vec2-base\", num_labels=num_labels, label2id=label2id, id2label=id2label\n",
    ")\n",
    "\n",
    "i = 3\n",
    "training_args = TrainingArguments(\n",
    "    output_dir=f\"wav2vec2_{i}\",\n",
    "    eval_strategy=\"epoch\",\n",
    "    save_strategy=\"epoch\",\n",
    "    learning_rate=5e-5,\n",
    "    per_device_train_batch_size=32,\n",
    "    gradient_accumulation_steps=4,\n",
    "    per_device_eval_batch_size=32,\n",
    "    num_train_epochs=5,\n",
    "    warmup_ratio=0.1,\n",
    "    logging_steps=10,\n",
    "    load_best_model_at_end=True,\n",
    "    metric_for_best_model=\"accuracy\",\n",
    ")\n",
    "\n",
    "trainer = Trainer(\n",
    "    model=model,\n",
    "    args=training_args,\n",
    "    train_dataset=encoded_train_dataset,\n",
    "    eval_dataset=encoded_val_dataset,\n",
    "    processing_class=feature_extractor,\n",
    "    compute_metrics=compute_metrics,\n",
    ")\n",
    "\n",
    "trainer.train()\n",
    "\n",
    "trainer.save_model(f'wav2vec2_final_model_{i}')"
   ]
  },
  {
   "cell_type": "code",
   "execution_count": 58,
   "id": "0d14d7f7",
   "metadata": {},
   "outputs": [
    {
     "name": "stderr",
     "output_type": "stream",
     "text": [
      "/Users/mateuszw/files/.venv/lib/python3.13/site-packages/transformers/configuration_utils.py:311: UserWarning: Passing `gradient_checkpointing` to a config initialization is deprecated and will be removed in v5 Transformers. Using `model.gradient_checkpointing_enable()` instead, or if you are using the `Trainer` API, pass `gradient_checkpointing=True` in your `TrainingArguments`.\n",
      "  warnings.warn(\n",
      "Some weights of Wav2Vec2ForSequenceClassification were not initialized from the model checkpoint at facebook/wav2vec2-base and are newly initialized: ['classifier.bias', 'classifier.weight', 'projector.bias', 'projector.weight']\n",
      "You should probably TRAIN this model on a down-stream task to be able to use it for predictions and inference.\n"
     ]
    },
    {
     "data": {
      "text/html": [
       "\n",
       "    <div>\n",
       "      \n",
       "      <progress value='870' max='870' style='width:300px; height:20px; vertical-align: middle;'></progress>\n",
       "      [870/870 2:17:13, Epoch 4/5]\n",
       "    </div>\n",
       "    <table border=\"1\" class=\"dataframe\">\n",
       "  <thead>\n",
       " <tr style=\"text-align: left;\">\n",
       "      <th>Epoch</th>\n",
       "      <th>Training Loss</th>\n",
       "      <th>Validation Loss</th>\n",
       "      <th>Accuracy</th>\n",
       "    </tr>\n",
       "  </thead>\n",
       "  <tbody>\n",
       "    <tr>\n",
       "      <td>0</td>\n",
       "      <td>0.644500</td>\n",
       "      <td>0.450856</td>\n",
       "      <td>0.874128</td>\n",
       "    </tr>\n",
       "    <tr>\n",
       "      <td>1</td>\n",
       "      <td>0.303000</td>\n",
       "      <td>0.184015</td>\n",
       "      <td>0.885752</td>\n",
       "    </tr>\n",
       "    <tr>\n",
       "      <td>2</td>\n",
       "      <td>0.214700</td>\n",
       "      <td>0.125981</td>\n",
       "      <td>0.895051</td>\n",
       "    </tr>\n",
       "    <tr>\n",
       "      <td>3</td>\n",
       "      <td>0.176500</td>\n",
       "      <td>0.111799</td>\n",
       "      <td>0.894055</td>\n",
       "    </tr>\n",
       "    <tr>\n",
       "      <td>4</td>\n",
       "      <td>0.114100</td>\n",
       "      <td>0.088547</td>\n",
       "      <td>0.900697</td>\n",
       "    </tr>\n",
       "  </tbody>\n",
       "</table><p>"
      ],
      "text/plain": [
       "<IPython.core.display.HTML object>"
      ]
     },
     "metadata": {},
     "output_type": "display_data"
    }
   ],
   "source": [
    "model = AutoModelForAudioClassification.from_pretrained(\n",
    "    \"facebook/wav2vec2-base\", num_labels=num_labels, label2id=label2id, id2label=id2label\n",
    ")\n",
    "\n",
    "i = 4\n",
    "training_args = TrainingArguments(\n",
    "    output_dir=f\"wav2vec2_{i}\",\n",
    "    eval_strategy=\"epoch\",\n",
    "    save_strategy=\"epoch\",\n",
    "    learning_rate=1e-4,\n",
    "    per_device_train_batch_size=32,\n",
    "    gradient_accumulation_steps=4,\n",
    "    per_device_eval_batch_size=32,\n",
    "    num_train_epochs=5,\n",
    "    warmup_ratio=0.1,\n",
    "    logging_steps=10,\n",
    "    load_best_model_at_end=True,\n",
    "    metric_for_best_model=\"accuracy\",\n",
    ")\n",
    "\n",
    "trainer = Trainer(\n",
    "    model=model,\n",
    "    args=training_args,\n",
    "    train_dataset=encoded_train_dataset,\n",
    "    eval_dataset=encoded_val_dataset,\n",
    "    processing_class=feature_extractor,\n",
    "    compute_metrics=compute_metrics,\n",
    ")\n",
    "\n",
    "trainer.train()\n",
    "\n",
    "trainer.save_model(f'wav2vec2_final_model_{i}')"
   ]
  },
  {
   "cell_type": "code",
   "execution_count": 59,
   "id": "d1f12d76",
   "metadata": {},
   "outputs": [
    {
     "name": "stderr",
     "output_type": "stream",
     "text": [
      "/Users/mateuszw/files/.venv/lib/python3.13/site-packages/transformers/configuration_utils.py:311: UserWarning: Passing `gradient_checkpointing` to a config initialization is deprecated and will be removed in v5 Transformers. Using `model.gradient_checkpointing_enable()` instead, or if you are using the `Trainer` API, pass `gradient_checkpointing=True` in your `TrainingArguments`.\n",
      "  warnings.warn(\n",
      "Some weights of Wav2Vec2ForSequenceClassification were not initialized from the model checkpoint at facebook/wav2vec2-base and are newly initialized: ['classifier.bias', 'classifier.weight', 'projector.bias', 'projector.weight']\n",
      "You should probably TRAIN this model on a down-stream task to be able to use it for predictions and inference.\n"
     ]
    },
    {
     "data": {
      "text/html": [
       "\n",
       "    <div>\n",
       "      \n",
       "      <progress value='870' max='870' style='width:300px; height:20px; vertical-align: middle;'></progress>\n",
       "      [870/870 2:18:27, Epoch 4/5]\n",
       "    </div>\n",
       "    <table border=\"1\" class=\"dataframe\">\n",
       "  <thead>\n",
       " <tr style=\"text-align: left;\">\n",
       "      <th>Epoch</th>\n",
       "      <th>Training Loss</th>\n",
       "      <th>Validation Loss</th>\n",
       "      <th>Accuracy</th>\n",
       "    </tr>\n",
       "  </thead>\n",
       "  <tbody>\n",
       "    <tr>\n",
       "      <td>0</td>\n",
       "      <td>2.238000</td>\n",
       "      <td>2.239277</td>\n",
       "      <td>0.085022</td>\n",
       "    </tr>\n",
       "    <tr>\n",
       "      <td>1</td>\n",
       "      <td>2.213600</td>\n",
       "      <td>2.217638</td>\n",
       "      <td>0.089671</td>\n",
       "    </tr>\n",
       "    <tr>\n",
       "      <td>2</td>\n",
       "      <td>2.196000</td>\n",
       "      <td>2.219946</td>\n",
       "      <td>0.085354</td>\n",
       "    </tr>\n",
       "    <tr>\n",
       "      <td>3</td>\n",
       "      <td>2.209500</td>\n",
       "      <td>2.214852</td>\n",
       "      <td>0.086682</td>\n",
       "    </tr>\n",
       "    <tr>\n",
       "      <td>4</td>\n",
       "      <td>2.192600</td>\n",
       "      <td>2.212704</td>\n",
       "      <td>0.086350</td>\n",
       "    </tr>\n",
       "  </tbody>\n",
       "</table><p>"
      ],
      "text/plain": [
       "<IPython.core.display.HTML object>"
      ]
     },
     "metadata": {},
     "output_type": "display_data"
    }
   ],
   "source": [
    "model = AutoModelForAudioClassification.from_pretrained(\n",
    "    \"facebook/wav2vec2-base\", num_labels=num_labels, label2id=label2id, id2label=id2label\n",
    ")\n",
    "\n",
    "i = 5\n",
    "training_args = TrainingArguments(\n",
    "    output_dir=f\"wav2vec2_{i}\",\n",
    "    eval_strategy=\"epoch\",\n",
    "    save_strategy=\"epoch\",\n",
    "    learning_rate=1e-3,\n",
    "    per_device_train_batch_size=32,\n",
    "    gradient_accumulation_steps=4,\n",
    "    per_device_eval_batch_size=32,\n",
    "    num_train_epochs=5,\n",
    "    warmup_ratio=0.1,\n",
    "    logging_steps=10,\n",
    "    load_best_model_at_end=True,\n",
    "    metric_for_best_model=\"accuracy\",\n",
    ")\n",
    "\n",
    "trainer = Trainer(\n",
    "    model=model,\n",
    "    args=training_args,\n",
    "    train_dataset=encoded_train_dataset,\n",
    "    eval_dataset=encoded_val_dataset,\n",
    "    processing_class=feature_extractor,\n",
    "    compute_metrics=compute_metrics,\n",
    ")\n",
    "\n",
    "trainer.train()\n",
    "\n",
    "trainer.save_model(f'wav2vec2_final_model_{i}')"
   ]
  }
 ],
 "metadata": {
  "kernelspec": {
   "display_name": ".venv",
   "language": "python",
   "name": "python3"
  },
  "language_info": {
   "codemirror_mode": {
    "name": "ipython",
    "version": 3
   },
   "file_extension": ".py",
   "mimetype": "text/x-python",
   "name": "python",
   "nbconvert_exporter": "python",
   "pygments_lexer": "ipython3",
   "version": "3.13.3"
  }
 },
 "nbformat": 4,
 "nbformat_minor": 5
}
